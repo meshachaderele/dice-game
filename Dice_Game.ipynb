{
  "nbformat": 4,
  "nbformat_minor": 0,
  "metadata": {
    "colab": {
      "provenance": [],
      "authorship_tag": "ABX9TyNUNcGNFB94WRtLNGOc+58C",
      "include_colab_link": true
    },
    "kernelspec": {
      "name": "python3",
      "display_name": "Python 3"
    },
    "language_info": {
      "name": "python"
    }
  },
  "cells": [
    {
      "cell_type": "markdown",
      "metadata": {
        "id": "view-in-github",
        "colab_type": "text"
      },
      "source": [
        "<a href=\"https://colab.research.google.com/github/meshachaderele/dice-game/blob/main/Dice_Game.ipynb\" target=\"_parent\"><img src=\"https://colab.research.google.com/assets/colab-badge.svg\" alt=\"Open In Colab\"/></a>"
      ]
    },
    {
      "cell_type": "markdown",
      "source": [
        "**A Simple Dice Game to Teach the Concept of Probability**"
      ],
      "metadata": {
        "id": "8F70beVrKUo8"
      }
    },
    {
      "cell_type": "code",
      "execution_count": null,
      "metadata": {
        "id": "xGowfG-vbh1v"
      },
      "outputs": [],
      "source": [
        "# Simple Dice Game by Meshach Aderele\n",
        "\n",
        "import random\n",
        "\n",
        "class DiceGame:\n",
        "    def __init__(self):\n",
        "        self.score = 0\n",
        "        self.target_score = 20\n",
        "        self.is_playing = True\n",
        "\n",
        "    def roll_dice(self):\n",
        "        return random.randint(1, 6)\n",
        "\n",
        "    def play_turn(self):\n",
        "        print(\"\\nRolling the dice...\")\n",
        "        roll = self.roll_dice()\n",
        "        print(\"You rolled:\", roll)\n",
        "\n",
        "        if roll == 1:\n",
        "            print(\"Oh no! You rolled a 1. You lose all your points for this turn.\")\n",
        "            self.score = 0\n",
        "            self.is_playing = False\n",
        "        else:\n",
        "            self.score += roll\n",
        "            print(f\"Your total earning for this turn: {self.score} USD\")\n",
        "\n",
        "        if self.score >= self.target_score:\n",
        "            print(\"Congratulations! You've reached the target score of\", self.target_score)\n",
        "            self.is_playing = False\n",
        "\n",
        "    def ready_to_play(self):\n",
        "      print(\"Welcome to the Roll the Dice game!\")\n",
        "      print(\"Roll the dice and try to reach a total score of\", self.target_score)\n",
        "      print(\"If you roll a 1, you've lost all earnings for this turn.\")\n",
        "      while self.is_playing:\n",
        "        answer = input(\"Are you ready to start the game? (y/n): \").lower()\n",
        "        if answer == 'y':\n",
        "          self.play_game()\n",
        "        else:\n",
        "          print('Thank You. Feel free to try again later')\n",
        "          self.is_playing = False\n",
        "\n",
        "    def play_game(self):\n",
        "\n",
        "        while self.is_playing:\n",
        "            self.play_turn()\n",
        "            if self.is_playing:\n",
        "                choice = input(f\"Do you want to roll again or cahsout your {self.score} USD ? (y/n): \").lower()\n",
        "                if choice != 'y':\n",
        "                    print(\"You chose to end your turn.\")\n",
        "                    self.is_playing = False\n",
        "\n",
        "        print(f\"\\nGame Over! Your final earning is: {self.score} USD\")\n",
        "\n",
        "if __name__ == \"__main__\":\n",
        "    game = DiceGame()\n",
        "    game.ready_to_play()\n"
      ]
    },
    {
      "cell_type": "markdown",
      "source": [
        "**Lesson from the game:**\n",
        "\n",
        "\n",
        "*   Rolling a 1 resets the points, signifying a lower probability event\n",
        "*   Rolling 2 - 6 adds more points, signifying a higher probability outcome\n",
        "\n",
        "\n",
        "\n",
        "\n"
      ],
      "metadata": {
        "id": "tqA9v3dkKBAn"
      }
    },
    {
      "cell_type": "code",
      "source": [],
      "metadata": {
        "id": "LBfo_7rqiMHR"
      },
      "execution_count": null,
      "outputs": []
    }
  ]
}